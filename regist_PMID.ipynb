{
  "nbformat": 4,
  "nbformat_minor": 0,
  "metadata": {
    "colab": {
      "name": "regist_PMID.ipynb",
      "provenance": [],
      "collapsed_sections": [],
      "authorship_tag": "ABX9TyMARD9yLOjzV39WcCv1XpWA",
      "include_colab_link": true
    },
    "kernelspec": {
      "name": "python3",
      "display_name": "Python 3"
    },
    "language_info": {
      "name": "python"
    }
  },
  "cells": [
    {
      "cell_type": "markdown",
      "metadata": {
        "id": "view-in-github",
        "colab_type": "text"
      },
      "source": [
        "<a href=\"https://colab.research.google.com/github/Mengyuan-Li1996/scRNA_register/blob/main/regist_PMID.ipynb\" target=\"_parent\"><img src=\"https://colab.research.google.com/assets/colab-badge.svg\" alt=\"Open In Colab\"/></a>"
      ]
    },
    {
      "cell_type": "code",
      "metadata": {
        "id": "0SETFUf8pha2"
      },
      "source": [
        "#pip install xmltodict\n",
        "#pip install biopython\n",
        "\n",
        "import xmltodict\n",
        "import json\n",
        "from Bio.Entrez import efetch, read,esearch,esummary\n",
        "from Bio import Entrez\n",
        "#please enter email address you registered in ncbi\n",
        "Entrez.email=''\n",
        "import xml.etree.ElementTree as ET\n"
      ],
      "execution_count": null,
      "outputs": []
    },
    {
      "cell_type": "code",
      "metadata": {
        "id": "iCIgK2PmpmT7"
      },
      "source": [
        "#regist pmid and geo_entry\n",
        "pmid=31359002\n",
        "geo_entry=\"GSE123814\""
      ],
      "execution_count": null,
      "outputs": []
    },
    {
      "cell_type": "code",
      "metadata": {
        "cellView": "form",
        "id": "klY4pq-5psx5"
      },
      "source": [
        "#@title get information for selected pmid and geo_entry\n",
        "#find paper info\n",
        "paper_info=efetch(db=\"pubmed\",id=pmid,retmode='xml')\n",
        "paper_info=Entrez.read(paper_info)\n",
        "\n",
        "#find data profile\n",
        "profile=esearch(db=\"gds\",term=geo_entry,retmode='xml')\n",
        "profile=Entrez.read(profile)\n",
        "#profile=efetch(db=\"gds\",id=profile['IdList'][0],retmode='xml')\n",
        "profile=esummary(db=\"gds\",id=profile['IdList'][0],retmode='xml')\n",
        "profile=Entrez.read(profile)\n",
        "\n",
        "#auto filled in\n",
        "regist=dict()\n",
        "regist['PMID']=str(pmid)\n",
        "regist['datasetID']=geo_entry\n",
        "regist['doi']=paper_info['PubmedArticle'][0]['MedlineCitation']['Article']['ELocationID'][0].split(\"\\'\")[0]\n",
        "regist['journal']=paper_info['PubmedArticle'][0]['MedlineCitation']['Article']['Journal']['Title']\n",
        "regist['title']=paper_info['PubmedArticle'][0]['MedlineCitation']['Article']['ArticleTitle']\n",
        "regist['abstract']=paper_info['PubmedArticle'][0]['MedlineCitation']['Article']['Abstract']['AbstractText'][0]\n",
        "regist['author_1']=paper_info['PubmedArticle'][0]['MedlineCitation']['Article']['AuthorList'][0]['ForeName']+\",\"+paper_info['PubmedArticle'][0]['MedlineCitation']['Article']['AuthorList'][0]['LastName']\n",
        "regist['auther_institute_1']=paper_info['PubmedArticle'][0]['MedlineCitation']['Article']['AuthorList'][0]['AffiliationInfo'][0]['Affiliation']\n",
        "regist['taxon']=profile[0]['taxon']\n",
        "regist['uid']=str(profile[0]['Id'])\n",
        "regist['ftp']=profile[0]['FTPLink']\n",
        "regist['samples']=str(profile[0]['Samples'])\n",
        "regist['numberOfSamples']=str(profile[0]['n_samples']+0)\n"
      ],
      "execution_count": null,
      "outputs": []
    },
    {
      "cell_type": "code",
      "metadata": {
        "id": "LDS8Hwrvq2pB"
      },
      "source": [
        "#@title please choose whether to fill in here or not\n",
        "#manual fill in\n",
        "regist['numberOfCells']=''\n",
        "regist['libraryPreparationMethod']=''\n",
        "regist['sequencingPlatform']=''\n",
        "regist['clusteringMethod']=''\n",
        "regist['clusterInforProvided']=''#True or False\n",
        "regist['SRA']=''\n",
        "regist['tissue']=''\n",
        "regist['disease']=''# all lower case\n",
        "regist['datatype']=''# cancer, neuroscience, developmentalBiology,immunology,cellAtlas\n",
        "regist['note']=''"
      ],
      "execution_count": null,
      "outputs": []
    },
    {
      "cell_type": "code",
      "metadata": {
        "colab": {
          "base_uri": "https://localhost:8080/"
        },
        "id": "HOoOwtRcp1m0",
        "outputId": "6e71e654-c286-4e3c-d285-359c569be9c4"
      },
      "source": [
        "regist"
      ],
      "execution_count": null,
      "outputs": [
        {
          "output_type": "execute_result",
          "data": {
            "text/plain": [
              "{'PMID': '31359002',\n",
              " 'abstract': 'Immunotherapies that block inhibitory checkpoint receptors on T cells have transformed the clinical care of patients with cancer<sup>1</sup>. However, whether the T cell response to checkpoint blockade relies on reinvigoration of pre-existing tumor-infiltrating lymphocytes or on recruitment of novel T cells remains unclear<sup>2-4</sup>. Here we performed paired single-cell RNA and T cell receptor sequencing on 79,046 cells from site-matched tumors from patients with basal or squamous cell carcinoma before and after anti-PD-1 therapy. Tracking T cell receptor clones and transcriptional phenotypes revealed coupling of tumor recognition, clonal expansion and T cell dysfunction marked by clonal expansion of CD8<sup>+</sup>CD39<sup>+</sup> T cells, which co-expressed markers of chronic T cell activation and exhaustion. However, the expansion of T cell clones did not derive from pre-existing tumor-infiltrating T lymphocytes; instead, the expanded clones consisted of novel clonotypes that had not previously been observed in the same tumor. Clonal replacement of T cells was preferentially observed in exhausted CD8<sup>+</sup> T cells and evident in patients with basal or squamous cell carcinoma. These results demonstrate that pre-existing tumor-specific T cells may have limited reinvigoration capacity, and that the T cell response to checkpoint blockade derives from a distinct repertoire of T cell clones that may have just recently entered the tumor.',\n",
              " 'auther_institute_1': 'Center for Personal Dynamic Regulomes, Stanford University School of Medicine, Stanford, CA, USA.',\n",
              " 'author_1': 'Kathryn E,Yost',\n",
              " 'datasetID': 'GSE123814',\n",
              " 'doi': '10.1038/s41591-019-0522-3',\n",
              " 'ftp': 'ftp://ftp.ncbi.nlm.nih.gov/geo/series/GSE123nnn/GSE123814/',\n",
              " 'journal': 'Nature medicine',\n",
              " 'numberOfSamples': '124',\n",
              " 'samples': \"[{'Accession': 'GSM3721478', 'Title': 'su013_post_Tcell_TCR'}, {'Accession': 'GSM3511746', 'Title': 'su003_post2_All_RNA'}, {'Accession': 'GSM3511709', 'Title': 'Tfh17_2'}, {'Accession': 'GSM3721461', 'Title': 'su013_post_Tcell_RNA'}, {'Accession': 'GSM3511729', 'Title': 'Th2_2'}, {'Accession': 'GSM3721458', 'Title': 'su011_pre_Tcell_rep2_RNA'}, {'Accession': 'GSM3511749', 'Title': 'su004_post_Tcell_RNA'}, {'Accession': 'GSM3511732', 'Title': 'Treg_1'}, {'Accession': 'GSM3721475', 'Title': 'su011_pre_Tcell_rep2_TCR'}, {'Accession': 'GSM3511706', 'Title': 'Tfh1_3'}, {'Accession': 'GSM3511769', 'Title': 'su001_pre1_TCR'}, {'Accession': 'GSM3511752', 'Title': 'su005_pre_Tcell_RNA'}, {'Accession': 'GSM3721455', 'Title': 'su010_pre_SCC_Tcell_rep2_RNA'}, {'Accession': 'GSM3721481', 'Title': 'su014_pre_Tcell_TCR'}, {'Accession': 'GSM3511726', 'Title': 'Th17_3'}, {'Accession': 'GSM3511718', 'Title': 'Th1-17_3'}, {'Accession': 'GSM3511755', 'Title': 'su005_post_Tumor_CD45_RNA'}, {'Accession': 'GSM3511738', 'Title': 'su001_post_Tcell_RNA'}, {'Accession': 'GSM3511772', 'Title': 'su002_pre_TCR'}, {'Accession': 'GSM3511712', 'Title': 'Tfh2_1'}, {'Accession': 'GSM3721467', 'Title': 'su010_post_BCC_Tcell_TCR'}, {'Accession': 'GSM3511758', 'Title': 'su006_pre_Tumor_RNA'}, {'Accession': 'GSM3511775', 'Title': 'su003_post_TCR'}, {'Accession': 'GSM3721464', 'Title': 'su014_pre_Tcell_RNA'}, {'Accession': 'GSM3511778', 'Title': 'su005_pre_TCR'}, {'Accession': 'GSM3511715', 'Title': 'Tfh2_4'}, {'Accession': 'GSM3511761', 'Title': 'su006_post_Tumor_RNA'}, {'Accession': 'GSM3511781', 'Title': 'su006_post_TCR'}, {'Accession': 'GSM3721447', 'Title': 'su008_post_Tcell_RNA'}, {'Accession': 'GSM3511735', 'Title': 'su001_pre1_Tcell_RNA'}, {'Accession': 'GSM3511698', 'Title': 'Naive_2'}, {'Accession': 'GSM3721460', 'Title': 'su012_pre_Tcell_RNA'}, {'Accession': 'GSM3511774', 'Title': 'su003_pre_TCR'}, {'Accession': 'GSM3511737', 'Title': 'su001_pre2_All_RNA'}, {'Accession': 'GSM3511757', 'Title': 'su006_pre_Tcell_RNA'}, {'Accession': 'GSM3511731', 'Title': 'Th2_4'}, {'Accession': 'GSM3511777', 'Title': 'su004_post_TCR'}, {'Accession': 'GSM3511711', 'Title': 'Tfh17_4'}, {'Accession': 'GSM3511751', 'Title': 'su005_pre_CD45_RNA'}, {'Accession': 'GSM3721466', 'Title': 'su009_pre_Tcell_TCR'}, {'Accession': 'GSM3511714', 'Title': 'Tfh2_3'}, {'Accession': 'GSM3721446', 'Title': 'su003_post1_Tumor_RNA'}, {'Accession': 'GSM3511734', 'Title': 'Treg_4'}, {'Accession': 'GSM3511754', 'Title': 'su005_post_Tcell_RNA'}, {'Accession': 'GSM3721463', 'Title': 'su014_post_Tcell_RNA'}, {'Accession': 'GSM3721469', 'Title': 'su010_post_SCC_Tcell_TCR'}, {'Accession': 'GSM3511700', 'Title': 'Naive_4'}, {'Accession': 'GSM3511783', 'Title': 'su007_post_TCR'}, {'Accession': 'GSM3511720', 'Title': 'Th1_1'}, {'Accession': 'GSM3511766', 'Title': 'su008_pre_Tcell_RNA'}, {'Accession': 'GSM3721452', 'Title': 'su010_post_SCC_Tcell_RNA'}, {'Accession': 'GSM3511760', 'Title': 'su006_post_Tcell_RNA'}, {'Accession': 'GSM3511740', 'Title': 'su002_pre_All_RNA'}, {'Accession': 'GSM3721449', 'Title': 'su009_pre_Tcell_RNA'}, {'Accession': 'GSM3511703', 'Title': 'Tfh1-17_3'}, {'Accession': 'GSM3511743', 'Title': 'su003_pre_All_RNA'}, {'Accession': 'GSM3511723', 'Title': 'Th1_4'}, {'Accession': 'GSM3721472', 'Title': 'su010_pre_SCC_Tcell_rep2_TCR'}, {'Accession': 'GSM3511763', 'Title': 'su007_pre_Tumor_CD45_RNA'}, {'Accession': 'GSM3511780', 'Title': 'su006_pre_TCR'}, {'Accession': 'GSM3511697', 'Title': 'Naive_1'}, {'Accession': 'GSM3511756', 'Title': 'su006_pre_CD45_RNA'}, {'Accession': 'GSM3721468', 'Title': 'su010_post_SCC_CD39_Tcell_TCR'}, {'Accession': 'GSM3511759', 'Title': 'su006_post_CD45_RNA'}, {'Accession': 'GSM3511779', 'Title': 'su005_post_TCR'}, {'Accession': 'GSM3721465', 'Title': 'su009_post_Tcell_TCR'}, {'Accession': 'GSM3511699', 'Title': 'Naive_3'}, {'Accession': 'GSM3511728', 'Title': 'Th2_1'}, {'Accession': 'GSM3721471', 'Title': 'su010_pre_SCC_Tcell_rep1_TCR'}, {'Accession': 'GSM3511782', 'Title': 'su007_pre_TCR'}, {'Accession': 'GSM3511717', 'Title': 'Th1-17_2'}, {'Accession': 'GSM3721451', 'Title': 'su010_post_SCC_CD39_Tcell_RNA'}, {'Accession': 'GSM3511702', 'Title': 'Tfh1-17_2'}, {'Accession': 'GSM3511719', 'Title': 'Th1-17_4'}, {'Accession': 'GSM3511785', 'Title': 'su008_post_TCR'}, {'Accession': 'GSM3721448', 'Title': 'su009_post_Tcell_RNA'}, {'Accession': 'GSM3511739', 'Title': 'su001_post_Tumor_CD45_RNA'}, {'Accession': 'GSM3511722', 'Title': 'Th1_3'}, {'Accession': 'GSM3511705', 'Title': 'Tfh1_2'}, {'Accession': 'GSM3511725', 'Title': 'Th17_2'}, {'Accession': 'GSM3511742', 'Title': 'su002_post_Tumor_CD45_RNA'}, {'Accession': 'GSM3511716', 'Title': 'Th1-17_1'}, {'Accession': 'GSM3511762', 'Title': 'su007_pre_Tcell_RNA'}, {'Accession': 'GSM3721445', 'Title': 'su003_post1_Tcell_CD45_RNA'}, {'Accession': 'GSM3511736', 'Title': 'su001_pre1_Tumor_CD45_RNA'}, {'Accession': 'GSM3511708', 'Title': 'Tfh17_1'}, {'Accession': 'GSM3511747', 'Title': 'su004_pre_Tcell_RNA'}, {'Accession': 'GSM3511765', 'Title': 'su008_pre_CD45_RNA'}, {'Accession': 'GSM3511727', 'Title': 'Th17_4'}, {'Accession': 'GSM3721480', 'Title': 'su014_post_Tcell_TCR'}, {'Accession': 'GSM3721450', 'Title': 'su010_post_BCC_Tcell_RNA'}, {'Accession': 'GSM3511721', 'Title': 'Th1_2'}, {'Accession': 'GSM3721457', 'Title': 'su011_pre_Tcell_rep1_RNA'}, {'Accession': 'GSM3511748', 'Title': 'su004_pre_Tumor_CD45_RNA'}, {'Accession': 'GSM3511741', 'Title': 'su002_post_Tcell_RNA'}, {'Accession': 'GSM3511768', 'Title': 'su008_post_Tumor_CD45_RNA'}, {'Accession': 'GSM3721456', 'Title': 'su011_post_Tcell_RNA'}, {'Accession': 'GSM3721477', 'Title': 'su012_pre_Tcell_TCR'}, {'Accession': 'GSM3721453', 'Title': 'su010_pre_BCC_Tcell_RNA'}, {'Accession': 'GSM3721474', 'Title': 'su011_pre_Tcell_rep1_TCR'}, {'Accession': 'GSM3511724', 'Title': 'Th17_1'}, {'Accession': 'GSM3511771', 'Title': 'su001_post_TCR'}, {'Accession': 'GSM3721454', 'Title': 'su010_pre_SCC_Tcell_rep1_RNA'}, {'Accession': 'GSM3511764', 'Title': 'su007_post_All_RNA'}, {'Accession': 'GSM3511776', 'Title': 'su004_pre_TCR'}, {'Accession': 'GSM3721459', 'Title': 'su012_post_Tcell_RNA'}, {'Accession': 'GSM3721470', 'Title': 'su010_pre_BCC_Tcell_TCR'}, {'Accession': 'GSM3511701', 'Title': 'Tfh1-17_1'}, {'Accession': 'GSM3511784', 'Title': 'su008_pre_TCR'}, {'Accession': 'GSM3721476', 'Title': 'su012_post_Tcell_TCR'}, {'Accession': 'GSM3511730', 'Title': 'Th2_3'}, {'Accession': 'GSM3511767', 'Title': 'su008_pre_Tumor_RNA'}, {'Accession': 'GSM3511750', 'Title': 'su004_post_Tumor_CD45_RNA'}, {'Accession': 'GSM3511770', 'Title': 'su001_pre2_TCR'}, {'Accession': 'GSM3511704', 'Title': 'Tfh1_1'}, {'Accession': 'GSM3511773', 'Title': 'su002_post_TCR'}, {'Accession': 'GSM3511753', 'Title': 'su005_pre_Tumor_RNA'}, {'Accession': 'GSM3721462', 'Title': 'su013_pre_Tcell_RNA'}, {'Accession': 'GSM3721473', 'Title': 'su011_post_Tcell_TCR'}, {'Accession': 'GSM3721479', 'Title': 'su013_pre_Tcell_TCR'}, {'Accession': 'GSM3511713', 'Title': 'Tfh2_2'}, {'Accession': 'GSM3511710', 'Title': 'Tfh17_3'}, {'Accession': 'GSM3511733', 'Title': 'Treg_3'}, {'Accession': 'GSM3511707', 'Title': 'Tfh1_4'}]\",\n",
              " 'taxon': 'Homo sapiens',\n",
              " 'title': 'Clonal replacement of tumor-specific T cells following PD-1 blockade.',\n",
              " 'uid': '200123814'}"
            ]
          },
          "metadata": {},
          "execution_count": 15
        }
      ]
    }
  ]
}